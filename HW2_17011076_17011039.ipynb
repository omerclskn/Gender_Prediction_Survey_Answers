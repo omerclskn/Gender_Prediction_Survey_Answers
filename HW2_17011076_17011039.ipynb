{
  "nbformat": 4,
  "nbformat_minor": 0,
  "metadata": {
    "colab": {
      "name": "Yapay_Zeka_Odev_2.ipynb",
      "provenance": [],
      "collapsed_sections": [],
      "toc_visible": true
    },
    "kernelspec": {
      "name": "python3",
      "display_name": "Python 3"
    },
    "language_info": {
      "name": "python"
    }
  },
  "cells": [
    {
      "cell_type": "code",
      "execution_count": 90,
      "metadata": {
        "colab": {
          "base_uri": "https://localhost:8080/",
          "height": 493
        },
        "id": "J8RLWBWPh05e",
        "outputId": "22e76cd5-e1f0-483b-e1d3-5c9ffc4cce50"
      },
      "outputs": [
        {
          "output_type": "execute_result",
          "data": {
            "text/plain": [
              "                  Zaman damgası Cinsiyet  Yaşınız Kilo Aralığınız  \\\n",
              "0  2022/05/09 10:29:35 ÖS GMT+3    Erkek  19 - 24        86 - 100   \n",
              "1  2022/05/09 10:32:45 ÖS GMT+3    Kadın  19 - 24         58 - 65   \n",
              "2  2022/05/09 10:34:25 ÖS GMT+3    Kadın  19 - 24         51 - 57   \n",
              "3  2022/05/09 10:35:20 ÖS GMT+3    Erkek   7 - 18         76 - 85   \n",
              "4  2022/05/09 10:35:45 ÖS GMT+3    Erkek  19 - 24            101+   \n",
              "\n",
              "  En Çok Vakit Harcadığınız Sosyal Medya  \\\n",
              "0                                Youtube   \n",
              "1                              Instagram   \n",
              "2                              Instagram   \n",
              "3                              Instagram   \n",
              "4                                Youtube   \n",
              "\n",
              "  Ne Sıklıkla Dışarıda Yemek Yiyorsunuz / Sipariş Veriyorsunuz  \\\n",
              "0                                  Haftanın Her Günü             \n",
              "1                                Haftada 1 Günden Az             \n",
              "2                                    Haftada 1-3 Gün             \n",
              "3                                Haftada 1 Günden Az             \n",
              "4                                  Haftanın Her Günü             \n",
              "\n",
              "  En Sevdiğiniz Renk  En Sevdiğiniz Film Türü En Çok Dinlediğiniz Müzik Türü  \\\n",
              "0            Kırmızı  Bilim Kurgu / Fantastik                           Rock   \n",
              "1                Mor                   Komedi                           Rock   \n",
              "2              Siyah  Bilim Kurgu / Fantastik                          Tekno   \n",
              "3              Siyah     Belgesel / Biyografi                           Rock   \n",
              "4            Kırmızı           Polisiye / Suç                           Rock   \n",
              "\n",
              "  En Sevdiğiniz Yiyecek Türü En Beğendiğiniz Spor Dalı  \\\n",
              "0                  Hamburger                    Futbol   \n",
              "1                  Hamburger       Tenis / Masa Tenisi   \n",
              "2                      Pizza          Vücut Geliştirme   \n",
              "3              Dünya Mutfağı                  Voleybol   \n",
              "4                      Pizza                 Basketbol   \n",
              "\n",
              "  Aşağıdakilerden En Çok Gezmek İstediğiniz Ülke / Ülkeler / Kıta  \n",
              "0                                           Hollanda               \n",
              "1                                             İtalya               \n",
              "2                                  Uzakdoğu Ülkeleri               \n",
              "3                                             İtalya               \n",
              "4                                           Hollanda               "
            ],
            "text/html": [
              "\n",
              "  <div id=\"df-279aff1b-24ba-4d37-b011-458969f5b3d8\">\n",
              "    <div class=\"colab-df-container\">\n",
              "      <div>\n",
              "<style scoped>\n",
              "    .dataframe tbody tr th:only-of-type {\n",
              "        vertical-align: middle;\n",
              "    }\n",
              "\n",
              "    .dataframe tbody tr th {\n",
              "        vertical-align: top;\n",
              "    }\n",
              "\n",
              "    .dataframe thead th {\n",
              "        text-align: right;\n",
              "    }\n",
              "</style>\n",
              "<table border=\"1\" class=\"dataframe\">\n",
              "  <thead>\n",
              "    <tr style=\"text-align: right;\">\n",
              "      <th></th>\n",
              "      <th>Zaman damgası</th>\n",
              "      <th>Cinsiyet</th>\n",
              "      <th>Yaşınız</th>\n",
              "      <th>Kilo Aralığınız</th>\n",
              "      <th>En Çok Vakit Harcadığınız Sosyal Medya</th>\n",
              "      <th>Ne Sıklıkla Dışarıda Yemek Yiyorsunuz / Sipariş Veriyorsunuz</th>\n",
              "      <th>En Sevdiğiniz Renk</th>\n",
              "      <th>En Sevdiğiniz Film Türü</th>\n",
              "      <th>En Çok Dinlediğiniz Müzik Türü</th>\n",
              "      <th>En Sevdiğiniz Yiyecek Türü</th>\n",
              "      <th>En Beğendiğiniz Spor Dalı</th>\n",
              "      <th>Aşağıdakilerden En Çok Gezmek İstediğiniz Ülke / Ülkeler / Kıta</th>\n",
              "    </tr>\n",
              "  </thead>\n",
              "  <tbody>\n",
              "    <tr>\n",
              "      <th>0</th>\n",
              "      <td>2022/05/09 10:29:35 ÖS GMT+3</td>\n",
              "      <td>Erkek</td>\n",
              "      <td>19 - 24</td>\n",
              "      <td>86 - 100</td>\n",
              "      <td>Youtube</td>\n",
              "      <td>Haftanın Her Günü</td>\n",
              "      <td>Kırmızı</td>\n",
              "      <td>Bilim Kurgu / Fantastik</td>\n",
              "      <td>Rock</td>\n",
              "      <td>Hamburger</td>\n",
              "      <td>Futbol</td>\n",
              "      <td>Hollanda</td>\n",
              "    </tr>\n",
              "    <tr>\n",
              "      <th>1</th>\n",
              "      <td>2022/05/09 10:32:45 ÖS GMT+3</td>\n",
              "      <td>Kadın</td>\n",
              "      <td>19 - 24</td>\n",
              "      <td>58 - 65</td>\n",
              "      <td>Instagram</td>\n",
              "      <td>Haftada 1 Günden Az</td>\n",
              "      <td>Mor</td>\n",
              "      <td>Komedi</td>\n",
              "      <td>Rock</td>\n",
              "      <td>Hamburger</td>\n",
              "      <td>Tenis / Masa Tenisi</td>\n",
              "      <td>İtalya</td>\n",
              "    </tr>\n",
              "    <tr>\n",
              "      <th>2</th>\n",
              "      <td>2022/05/09 10:34:25 ÖS GMT+3</td>\n",
              "      <td>Kadın</td>\n",
              "      <td>19 - 24</td>\n",
              "      <td>51 - 57</td>\n",
              "      <td>Instagram</td>\n",
              "      <td>Haftada 1-3 Gün</td>\n",
              "      <td>Siyah</td>\n",
              "      <td>Bilim Kurgu / Fantastik</td>\n",
              "      <td>Tekno</td>\n",
              "      <td>Pizza</td>\n",
              "      <td>Vücut Geliştirme</td>\n",
              "      <td>Uzakdoğu Ülkeleri</td>\n",
              "    </tr>\n",
              "    <tr>\n",
              "      <th>3</th>\n",
              "      <td>2022/05/09 10:35:20 ÖS GMT+3</td>\n",
              "      <td>Erkek</td>\n",
              "      <td>7 - 18</td>\n",
              "      <td>76 - 85</td>\n",
              "      <td>Instagram</td>\n",
              "      <td>Haftada 1 Günden Az</td>\n",
              "      <td>Siyah</td>\n",
              "      <td>Belgesel / Biyografi</td>\n",
              "      <td>Rock</td>\n",
              "      <td>Dünya Mutfağı</td>\n",
              "      <td>Voleybol</td>\n",
              "      <td>İtalya</td>\n",
              "    </tr>\n",
              "    <tr>\n",
              "      <th>4</th>\n",
              "      <td>2022/05/09 10:35:45 ÖS GMT+3</td>\n",
              "      <td>Erkek</td>\n",
              "      <td>19 - 24</td>\n",
              "      <td>101+</td>\n",
              "      <td>Youtube</td>\n",
              "      <td>Haftanın Her Günü</td>\n",
              "      <td>Kırmızı</td>\n",
              "      <td>Polisiye / Suç</td>\n",
              "      <td>Rock</td>\n",
              "      <td>Pizza</td>\n",
              "      <td>Basketbol</td>\n",
              "      <td>Hollanda</td>\n",
              "    </tr>\n",
              "  </tbody>\n",
              "</table>\n",
              "</div>\n",
              "      <button class=\"colab-df-convert\" onclick=\"convertToInteractive('df-279aff1b-24ba-4d37-b011-458969f5b3d8')\"\n",
              "              title=\"Convert this dataframe to an interactive table.\"\n",
              "              style=\"display:none;\">\n",
              "        \n",
              "  <svg xmlns=\"http://www.w3.org/2000/svg\" height=\"24px\"viewBox=\"0 0 24 24\"\n",
              "       width=\"24px\">\n",
              "    <path d=\"M0 0h24v24H0V0z\" fill=\"none\"/>\n",
              "    <path d=\"M18.56 5.44l.94 2.06.94-2.06 2.06-.94-2.06-.94-.94-2.06-.94 2.06-2.06.94zm-11 1L8.5 8.5l.94-2.06 2.06-.94-2.06-.94L8.5 2.5l-.94 2.06-2.06.94zm10 10l.94 2.06.94-2.06 2.06-.94-2.06-.94-.94-2.06-.94 2.06-2.06.94z\"/><path d=\"M17.41 7.96l-1.37-1.37c-.4-.4-.92-.59-1.43-.59-.52 0-1.04.2-1.43.59L10.3 9.45l-7.72 7.72c-.78.78-.78 2.05 0 2.83L4 21.41c.39.39.9.59 1.41.59.51 0 1.02-.2 1.41-.59l7.78-7.78 2.81-2.81c.8-.78.8-2.07 0-2.86zM5.41 20L4 18.59l7.72-7.72 1.47 1.35L5.41 20z\"/>\n",
              "  </svg>\n",
              "      </button>\n",
              "      \n",
              "  <style>\n",
              "    .colab-df-container {\n",
              "      display:flex;\n",
              "      flex-wrap:wrap;\n",
              "      gap: 12px;\n",
              "    }\n",
              "\n",
              "    .colab-df-convert {\n",
              "      background-color: #E8F0FE;\n",
              "      border: none;\n",
              "      border-radius: 50%;\n",
              "      cursor: pointer;\n",
              "      display: none;\n",
              "      fill: #1967D2;\n",
              "      height: 32px;\n",
              "      padding: 0 0 0 0;\n",
              "      width: 32px;\n",
              "    }\n",
              "\n",
              "    .colab-df-convert:hover {\n",
              "      background-color: #E2EBFA;\n",
              "      box-shadow: 0px 1px 2px rgba(60, 64, 67, 0.3), 0px 1px 3px 1px rgba(60, 64, 67, 0.15);\n",
              "      fill: #174EA6;\n",
              "    }\n",
              "\n",
              "    [theme=dark] .colab-df-convert {\n",
              "      background-color: #3B4455;\n",
              "      fill: #D2E3FC;\n",
              "    }\n",
              "\n",
              "    [theme=dark] .colab-df-convert:hover {\n",
              "      background-color: #434B5C;\n",
              "      box-shadow: 0px 1px 3px 1px rgba(0, 0, 0, 0.15);\n",
              "      filter: drop-shadow(0px 1px 2px rgba(0, 0, 0, 0.3));\n",
              "      fill: #FFFFFF;\n",
              "    }\n",
              "  </style>\n",
              "\n",
              "      <script>\n",
              "        const buttonEl =\n",
              "          document.querySelector('#df-279aff1b-24ba-4d37-b011-458969f5b3d8 button.colab-df-convert');\n",
              "        buttonEl.style.display =\n",
              "          google.colab.kernel.accessAllowed ? 'block' : 'none';\n",
              "\n",
              "        async function convertToInteractive(key) {\n",
              "          const element = document.querySelector('#df-279aff1b-24ba-4d37-b011-458969f5b3d8');\n",
              "          const dataTable =\n",
              "            await google.colab.kernel.invokeFunction('convertToInteractive',\n",
              "                                                     [key], {});\n",
              "          if (!dataTable) return;\n",
              "\n",
              "          const docLinkHtml = 'Like what you see? Visit the ' +\n",
              "            '<a target=\"_blank\" href=https://colab.research.google.com/notebooks/data_table.ipynb>data table notebook</a>'\n",
              "            + ' to learn more about interactive tables.';\n",
              "          element.innerHTML = '';\n",
              "          dataTable['output_type'] = 'display_data';\n",
              "          await google.colab.output.renderOutput(dataTable, element);\n",
              "          const docLink = document.createElement('div');\n",
              "          docLink.innerHTML = docLinkHtml;\n",
              "          element.appendChild(docLink);\n",
              "        }\n",
              "      </script>\n",
              "    </div>\n",
              "  </div>\n",
              "  "
            ]
          },
          "metadata": {},
          "execution_count": 90
        }
      ],
      "source": [
        "import pandas as pd\n",
        "import matplotlib.pyplot as plt\n",
        "import seaborn as sns\n",
        "import numpy as np\n",
        "import warnings\n",
        "warnings.filterwarnings('ignore')\n",
        "# Dataset Definition\n",
        "df = pd.read_csv('dataset.csv')\n",
        "df.head()"
      ]
    },
    {
      "cell_type": "code",
      "source": [
        "df.info()"
      ],
      "metadata": {
        "colab": {
          "base_uri": "https://localhost:8080/"
        },
        "id": "HT-lQh-siSX6",
        "outputId": "9cc0dbf2-90e9-4c12-ddf7-f848c1aa06c7"
      },
      "execution_count": 91,
      "outputs": [
        {
          "output_type": "stream",
          "name": "stdout",
          "text": [
            "<class 'pandas.core.frame.DataFrame'>\n",
            "RangeIndex: 418 entries, 0 to 417\n",
            "Data columns (total 12 columns):\n",
            " #   Column                                                           Non-Null Count  Dtype \n",
            "---  ------                                                           --------------  ----- \n",
            " 0   Zaman damgası                                                    418 non-null    object\n",
            " 1   Cinsiyet                                                         418 non-null    object\n",
            " 2   Yaşınız                                                          418 non-null    object\n",
            " 3   Kilo Aralığınız                                                  418 non-null    object\n",
            " 4   En Çok Vakit Harcadığınız Sosyal Medya                           418 non-null    object\n",
            " 5   Ne Sıklıkla Dışarıda Yemek Yiyorsunuz / Sipariş Veriyorsunuz     418 non-null    object\n",
            " 6   En Sevdiğiniz Renk                                               418 non-null    object\n",
            " 7   En Sevdiğiniz Film Türü                                          418 non-null    object\n",
            " 8   En Çok Dinlediğiniz Müzik Türü                                   418 non-null    object\n",
            " 9   En Sevdiğiniz Yiyecek Türü                                       418 non-null    object\n",
            " 10  En Beğendiğiniz Spor Dalı                                        418 non-null    object\n",
            " 11  Aşağıdakilerden En Çok Gezmek İstediğiniz Ülke / Ülkeler / Kıta  418 non-null    object\n",
            "dtypes: object(12)\n",
            "memory usage: 39.3+ KB\n"
          ]
        }
      ]
    },
    {
      "cell_type": "markdown",
      "source": [
        "# **Preprocess**"
      ],
      "metadata": {
        "id": "sDKLO54uibfK"
      }
    },
    {
      "cell_type": "code",
      "source": [
        "# change column headers\n",
        "df = df.rename({'Cinsiyet': 'Gender', \n",
        "                'Yaşınız': 'Age',\n",
        "                'Kilo Aralığınız': 'Weight', \n",
        "                'En Çok Vakit Harcadığınız Sosyal Medya': 'Social_Media',\n",
        "                'Ne Sıklıkla Dışarıda Yemek Yiyorsunuz / Sipariş Veriyorsunuz': 'Order_Freq', \n",
        "                'En Sevdiğiniz Renk': 'Color',\n",
        "                'En Sevdiğiniz Film Türü': 'Movie',\n",
        "                'En Çok Dinlediğiniz Müzik Türü': 'Music',\n",
        "                'En Sevdiğiniz Yiyecek Türü': 'Food',\n",
        "                'En Beğendiğiniz Spor Dalı': 'Sport',\n",
        "                'Aşağıdakilerden En Çok Gezmek İstediğiniz Ülke / Ülkeler / Kıta': 'Travel',\n",
        "                }, axis=1)\n",
        "# Drop illogical data column\n",
        "df.drop(['Zaman damgası'], axis=1, inplace=True)\n",
        "\n",
        "df.head()"
      ],
      "metadata": {
        "colab": {
          "base_uri": "https://localhost:8080/",
          "height": 206
        },
        "id": "t2nPuwgSidl4",
        "outputId": "3cddc37f-90be-4140-e3f7-b660e4349ff1"
      },
      "execution_count": 92,
      "outputs": [
        {
          "output_type": "execute_result",
          "data": {
            "text/plain": [
              "  Gender      Age    Weight Social_Media           Order_Freq    Color  \\\n",
              "0  Erkek  19 - 24  86 - 100      Youtube    Haftanın Her Günü  Kırmızı   \n",
              "1  Kadın  19 - 24   58 - 65    Instagram  Haftada 1 Günden Az      Mor   \n",
              "2  Kadın  19 - 24   51 - 57    Instagram      Haftada 1-3 Gün    Siyah   \n",
              "3  Erkek   7 - 18   76 - 85    Instagram  Haftada 1 Günden Az    Siyah   \n",
              "4  Erkek  19 - 24      101+      Youtube    Haftanın Her Günü  Kırmızı   \n",
              "\n",
              "                     Movie  Music           Food                Sport  \\\n",
              "0  Bilim Kurgu / Fantastik   Rock      Hamburger               Futbol   \n",
              "1                   Komedi   Rock      Hamburger  Tenis / Masa Tenisi   \n",
              "2  Bilim Kurgu / Fantastik  Tekno          Pizza     Vücut Geliştirme   \n",
              "3     Belgesel / Biyografi   Rock  Dünya Mutfağı             Voleybol   \n",
              "4           Polisiye / Suç   Rock          Pizza            Basketbol   \n",
              "\n",
              "              Travel  \n",
              "0           Hollanda  \n",
              "1             İtalya  \n",
              "2  Uzakdoğu Ülkeleri  \n",
              "3             İtalya  \n",
              "4           Hollanda  "
            ],
            "text/html": [
              "\n",
              "  <div id=\"df-4efb3b3c-ec4d-4cca-8e28-0b6ac01ae50f\">\n",
              "    <div class=\"colab-df-container\">\n",
              "      <div>\n",
              "<style scoped>\n",
              "    .dataframe tbody tr th:only-of-type {\n",
              "        vertical-align: middle;\n",
              "    }\n",
              "\n",
              "    .dataframe tbody tr th {\n",
              "        vertical-align: top;\n",
              "    }\n",
              "\n",
              "    .dataframe thead th {\n",
              "        text-align: right;\n",
              "    }\n",
              "</style>\n",
              "<table border=\"1\" class=\"dataframe\">\n",
              "  <thead>\n",
              "    <tr style=\"text-align: right;\">\n",
              "      <th></th>\n",
              "      <th>Gender</th>\n",
              "      <th>Age</th>\n",
              "      <th>Weight</th>\n",
              "      <th>Social_Media</th>\n",
              "      <th>Order_Freq</th>\n",
              "      <th>Color</th>\n",
              "      <th>Movie</th>\n",
              "      <th>Music</th>\n",
              "      <th>Food</th>\n",
              "      <th>Sport</th>\n",
              "      <th>Travel</th>\n",
              "    </tr>\n",
              "  </thead>\n",
              "  <tbody>\n",
              "    <tr>\n",
              "      <th>0</th>\n",
              "      <td>Erkek</td>\n",
              "      <td>19 - 24</td>\n",
              "      <td>86 - 100</td>\n",
              "      <td>Youtube</td>\n",
              "      <td>Haftanın Her Günü</td>\n",
              "      <td>Kırmızı</td>\n",
              "      <td>Bilim Kurgu / Fantastik</td>\n",
              "      <td>Rock</td>\n",
              "      <td>Hamburger</td>\n",
              "      <td>Futbol</td>\n",
              "      <td>Hollanda</td>\n",
              "    </tr>\n",
              "    <tr>\n",
              "      <th>1</th>\n",
              "      <td>Kadın</td>\n",
              "      <td>19 - 24</td>\n",
              "      <td>58 - 65</td>\n",
              "      <td>Instagram</td>\n",
              "      <td>Haftada 1 Günden Az</td>\n",
              "      <td>Mor</td>\n",
              "      <td>Komedi</td>\n",
              "      <td>Rock</td>\n",
              "      <td>Hamburger</td>\n",
              "      <td>Tenis / Masa Tenisi</td>\n",
              "      <td>İtalya</td>\n",
              "    </tr>\n",
              "    <tr>\n",
              "      <th>2</th>\n",
              "      <td>Kadın</td>\n",
              "      <td>19 - 24</td>\n",
              "      <td>51 - 57</td>\n",
              "      <td>Instagram</td>\n",
              "      <td>Haftada 1-3 Gün</td>\n",
              "      <td>Siyah</td>\n",
              "      <td>Bilim Kurgu / Fantastik</td>\n",
              "      <td>Tekno</td>\n",
              "      <td>Pizza</td>\n",
              "      <td>Vücut Geliştirme</td>\n",
              "      <td>Uzakdoğu Ülkeleri</td>\n",
              "    </tr>\n",
              "    <tr>\n",
              "      <th>3</th>\n",
              "      <td>Erkek</td>\n",
              "      <td>7 - 18</td>\n",
              "      <td>76 - 85</td>\n",
              "      <td>Instagram</td>\n",
              "      <td>Haftada 1 Günden Az</td>\n",
              "      <td>Siyah</td>\n",
              "      <td>Belgesel / Biyografi</td>\n",
              "      <td>Rock</td>\n",
              "      <td>Dünya Mutfağı</td>\n",
              "      <td>Voleybol</td>\n",
              "      <td>İtalya</td>\n",
              "    </tr>\n",
              "    <tr>\n",
              "      <th>4</th>\n",
              "      <td>Erkek</td>\n",
              "      <td>19 - 24</td>\n",
              "      <td>101+</td>\n",
              "      <td>Youtube</td>\n",
              "      <td>Haftanın Her Günü</td>\n",
              "      <td>Kırmızı</td>\n",
              "      <td>Polisiye / Suç</td>\n",
              "      <td>Rock</td>\n",
              "      <td>Pizza</td>\n",
              "      <td>Basketbol</td>\n",
              "      <td>Hollanda</td>\n",
              "    </tr>\n",
              "  </tbody>\n",
              "</table>\n",
              "</div>\n",
              "      <button class=\"colab-df-convert\" onclick=\"convertToInteractive('df-4efb3b3c-ec4d-4cca-8e28-0b6ac01ae50f')\"\n",
              "              title=\"Convert this dataframe to an interactive table.\"\n",
              "              style=\"display:none;\">\n",
              "        \n",
              "  <svg xmlns=\"http://www.w3.org/2000/svg\" height=\"24px\"viewBox=\"0 0 24 24\"\n",
              "       width=\"24px\">\n",
              "    <path d=\"M0 0h24v24H0V0z\" fill=\"none\"/>\n",
              "    <path d=\"M18.56 5.44l.94 2.06.94-2.06 2.06-.94-2.06-.94-.94-2.06-.94 2.06-2.06.94zm-11 1L8.5 8.5l.94-2.06 2.06-.94-2.06-.94L8.5 2.5l-.94 2.06-2.06.94zm10 10l.94 2.06.94-2.06 2.06-.94-2.06-.94-.94-2.06-.94 2.06-2.06.94z\"/><path d=\"M17.41 7.96l-1.37-1.37c-.4-.4-.92-.59-1.43-.59-.52 0-1.04.2-1.43.59L10.3 9.45l-7.72 7.72c-.78.78-.78 2.05 0 2.83L4 21.41c.39.39.9.59 1.41.59.51 0 1.02-.2 1.41-.59l7.78-7.78 2.81-2.81c.8-.78.8-2.07 0-2.86zM5.41 20L4 18.59l7.72-7.72 1.47 1.35L5.41 20z\"/>\n",
              "  </svg>\n",
              "      </button>\n",
              "      \n",
              "  <style>\n",
              "    .colab-df-container {\n",
              "      display:flex;\n",
              "      flex-wrap:wrap;\n",
              "      gap: 12px;\n",
              "    }\n",
              "\n",
              "    .colab-df-convert {\n",
              "      background-color: #E8F0FE;\n",
              "      border: none;\n",
              "      border-radius: 50%;\n",
              "      cursor: pointer;\n",
              "      display: none;\n",
              "      fill: #1967D2;\n",
              "      height: 32px;\n",
              "      padding: 0 0 0 0;\n",
              "      width: 32px;\n",
              "    }\n",
              "\n",
              "    .colab-df-convert:hover {\n",
              "      background-color: #E2EBFA;\n",
              "      box-shadow: 0px 1px 2px rgba(60, 64, 67, 0.3), 0px 1px 3px 1px rgba(60, 64, 67, 0.15);\n",
              "      fill: #174EA6;\n",
              "    }\n",
              "\n",
              "    [theme=dark] .colab-df-convert {\n",
              "      background-color: #3B4455;\n",
              "      fill: #D2E3FC;\n",
              "    }\n",
              "\n",
              "    [theme=dark] .colab-df-convert:hover {\n",
              "      background-color: #434B5C;\n",
              "      box-shadow: 0px 1px 3px 1px rgba(0, 0, 0, 0.15);\n",
              "      filter: drop-shadow(0px 1px 2px rgba(0, 0, 0, 0.3));\n",
              "      fill: #FFFFFF;\n",
              "    }\n",
              "  </style>\n",
              "\n",
              "      <script>\n",
              "        const buttonEl =\n",
              "          document.querySelector('#df-4efb3b3c-ec4d-4cca-8e28-0b6ac01ae50f button.colab-df-convert');\n",
              "        buttonEl.style.display =\n",
              "          google.colab.kernel.accessAllowed ? 'block' : 'none';\n",
              "\n",
              "        async function convertToInteractive(key) {\n",
              "          const element = document.querySelector('#df-4efb3b3c-ec4d-4cca-8e28-0b6ac01ae50f');\n",
              "          const dataTable =\n",
              "            await google.colab.kernel.invokeFunction('convertToInteractive',\n",
              "                                                     [key], {});\n",
              "          if (!dataTable) return;\n",
              "\n",
              "          const docLinkHtml = 'Like what you see? Visit the ' +\n",
              "            '<a target=\"_blank\" href=https://colab.research.google.com/notebooks/data_table.ipynb>data table notebook</a>'\n",
              "            + ' to learn more about interactive tables.';\n",
              "          element.innerHTML = '';\n",
              "          dataTable['output_type'] = 'display_data';\n",
              "          await google.colab.output.renderOutput(dataTable, element);\n",
              "          const docLink = document.createElement('div');\n",
              "          docLink.innerHTML = docLinkHtml;\n",
              "          element.appendChild(docLink);\n",
              "        }\n",
              "      </script>\n",
              "    </div>\n",
              "  </div>\n",
              "  "
            ]
          },
          "metadata": {},
          "execution_count": 92
        }
      ]
    },
    {
      "cell_type": "markdown",
      "source": [
        "# **Data Analysis**"
      ],
      "metadata": {
        "id": "cdjgCgG-kmF1"
      }
    },
    {
      "cell_type": "code",
      "source": [
        "columns = list(df.columns.values) # define column names\n",
        "\n",
        "fig, ax = plt.subplots(4, 3, figsize=(15, 20))\n",
        "for col, subplot in zip(columns, ax.flatten()):\n",
        "    sns.countplot(df[col],ax=subplot)\n",
        "    subplot.set_xticklabels(rotation=45, horizontalalignment='right', labels=df[col].explode().unique() ) \n",
        "    subplot.yaxis.label.set_text(\"Number of Records\")\n",
        "        \n",
        "# plot feature distribution\n",
        "fig.suptitle(\"Categorical Variables\", fontsize=20)\n",
        "plt.tight_layout(pad=5, w_pad=1, h_pad=1)\n",
        "plt.show()"
      ],
      "metadata": {
        "colab": {
          "base_uri": "https://localhost:8080/",
          "height": 1000
        },
        "id": "_YPBhVi4kUSL",
        "outputId": "d5c3b8ca-9b3d-4aa2-89f4-798209150190"
      },
      "execution_count": 93,
      "outputs": [
        {
          "output_type": "display_data",
          "data": {
            "text/plain": [
              "<Figure size 1080x1440 with 12 Axes>"
            ],
            "image/png": "[encoded data removed]"
          },
          "metadata": {
            "needs_background": "light"
          }
        }
      ]
    },
    {
      "cell_type": "markdown",
      "source": [
        "# **Bivarite Analysis**"
      ],
      "metadata": {
        "id": "--2CokeTFgo8"
      }
    },
    {
      "cell_type": "code",
      "source": [
        "# define columns for prediction\n",
        "target_columns = ['Erkek','Kadın']"
      ],
      "metadata": {
        "id": "VJuB2hrgFxXp"
      },
      "execution_count": 94,
      "outputs": []
    },
    {
      "cell_type": "code",
      "source": [
        "ref = \"Gender\"\n",
        "palette = \"Blues_r\"\n",
        "\n",
        "hues = [\"Social_Media\", 'Movie', \"Sport\", \"Travel\"]\n",
        "\n",
        "# plot distribute of feature by gender\n",
        "for hue in hues:\n",
        "  plt.figure(figsize = (10, 5))\n",
        "  sns.countplot(x = ref, hue = hue, data = df, order = target_columns, palette = palette)\n",
        "  plt.show()"
      ],
      "metadata": {
        "colab": {
          "base_uri": "https://localhost:8080/",
          "height": 1000
        },
        "id": "f5Dqz5zjFief",
        "outputId": "b30ceb49-d729-4d3c-f3f3-7961cb580461"
      },
      "execution_count": 95,
      "outputs": [
        {
          "output_type": "display_data",
          "data": {
            "text/plain": [
              "<Figure size 720x360 with 1 Axes>"
            ],
            "image/png": "[encoded data removed]"
          },
          "metadata": {
            "needs_background": "light"
          }
        },
        {
          "output_type": "display_data",
          "data": {
            "text/plain": [
              "<Figure size 720x360 with 1 Axes>"
            ],
            "image/png": "[encoded data removed]"
          },
          "metadata": {
            "needs_background": "light"
          }
        },
        {
          "output_type": "display_data",
          "data": {
            "text/plain": [
              "<Figure size 720x360 with 1 Axes>"
            ],
            "image/png": "[encoded data removed]"
          },
          "metadata": {
            "needs_background": "light"
          }
        },
        {
          "output_type": "display_data",
          "data": {
            "text/plain": [
              "<Figure size 720x360 with 1 Axes>"
            ],
            "image/png": "[encoded data removed]"
          },
          "metadata": {
            "needs_background": "light"
          }
        }
      ]
    },
    {
      "cell_type": "markdown",
      "source": [
        "## **Manipulate the Data**"
      ],
      "metadata": {
        "id": "4nIHRzsAlsph"
      }
    },
    {
      "cell_type": "code",
      "source": [
        "# Manipulate data nominal to ordinal\n",
        "df_backup = df.copy() # backup for further use\n",
        "\n",
        "df['Gender'] = df['Gender'].map({'Erkek': 1.0,'Kadın': 0.0})\n",
        "df['Age'] = df['Age'].map({'7 - 18': 1.0,'19 - 24': 2.0,'25 - 29': 3.0,'30 - 40': 4.0,'41 - 45': 5.0,'46 - 51': 6.0,'51 - 64': 7.0,'65 +': 8.0})\n",
        "df['Weight'] = df['Weight'].map({'35 - 45': 1.0,'46 - 50': 2.0,'51 - 57': 3.0,'58 - 65': 4.0,'66 - 75': 5.0,'76 - 85': 6.0,'86 - 100': 7.0,'101+': 8.0})\n",
        "df['Social_Media'] = df['Social_Media'].map({'Instagram': 1.0,'Twitter': 2.0, 'Facebook': 3.0,'Youtube': 4.0, 'Linkedin': 5.0, 'Reddit': 6.0})\n",
        "df['Order_Freq'] = df['Order_Freq'].map({'Haftada 1 Günden Az': 1.0,'Haftada 1-3 Gün': 2.0, 'Haftada 4-6 Gün': 3.0,'Haftanın Her Günü': 4.0})\n",
        "df['Color'] = df['Color'].map({'Siyah': 1.0,'Kahverengi': 2.0, 'Kırmızı': 3.0,'Turuncu': 4.0, 'Mavi': 5.0, 'Sarı': 6.0,'Yeşil': 7.0, 'Mor': 8.0, 'Pembe': 9.0,'Beyaz': 10.0})\n",
        "df['Movie'] = df['Movie'].map({'Aksiyon / Macera': 1.0,'Komedi': 2.0, 'Dram / Romantik': 3.0,'Bilim Kurgu / Fantastik': 4.0, 'Polisiye / Suç': 5.0, 'Animasyon / Anime / Çizgi Film': 6.0,'Belgesel / Biyografi': 7.0, 'Korku / Gerilim': 8.0})\n",
        "df['Music'] = df['Music'].map({'Pop': 1.0,'Rock': 2.0, 'Rap': 3.0,'Arabesk': 4.0, 'Caz': 5.0,'Klasik': 6.0, 'Metal': 7.0,'R&B': 8.0, 'Blues': 9.0, 'Tekno': 10.0})\n",
        "df['Food'] = df['Food'].map({'Hamburger': 1.0,'Sokak Lezzetleri': 2.0, 'Döner': 3.0,'Pizza': 4.0, 'Kebap': 5.0,'Tost & Sandviç': 6.0, 'Hamur İşi': 7.0,'Balık': 8.0, 'Dünya Mutfağı': 9.0})\n",
        "df['Sport'] = df['Sport'].map({'Futbol': 1.0,'Basketbol': 2.0, 'Voleybol': 3.0,'Tenis / Masa Tenisi': 4.0, 'Yüzme': 5.0,'Boks': 6.0, 'Vücut Geliştirme': 7.0})\n",
        "df['Travel'] = df['Travel'].map({'Almanya': 1.0,'Fransa': 2.0, 'İtalya': 3.0,'İspanya / Portekiz': 4.0, 'Hollanda': 5.0,'İskandinav Ülkeleri': 6.0, 'Amerika / Kanada': 7.0,'Brezilya / Arjantin': 8.0, 'Uzakdoğu Ülkeleri': 9.0, 'Avustralya / Yeni Zelanda': 10.0, 'Kuzey Afrika': 11.0, 'Güney Afrika': 12.0,'Ortadoğu Ülkeleri': 13.0})\n",
        "\n",
        "df.head()"
      ],
      "metadata": {
        "colab": {
          "base_uri": "https://localhost:8080/",
          "height": 206
        },
        "id": "Q8m_WFj3lwI7",
        "outputId": "a79aaa50-1033-4a28-ba29-f637e3715f34"
      },
      "execution_count": 96,
      "outputs": [
        {
          "output_type": "execute_result",
          "data": {
            "text/plain": [
              "   Gender  Age  Weight  Social_Media  Order_Freq  Color  Movie  Music  Food  \\\n",
              "0     1.0  2.0     7.0           4.0         4.0    3.0    4.0    2.0   1.0   \n",
              "1     0.0  2.0     4.0           1.0         1.0    8.0    2.0    2.0   1.0   \n",
              "2     0.0  2.0     3.0           1.0         2.0    1.0    4.0   10.0   4.0   \n",
              "3     1.0  1.0     6.0           1.0         1.0    1.0    7.0    2.0   9.0   \n",
              "4     1.0  2.0     8.0           4.0         4.0    3.0    5.0    2.0   4.0   \n",
              "\n",
              "   Sport  Travel  \n",
              "0    1.0     5.0  \n",
              "1    4.0     3.0  \n",
              "2    7.0     9.0  \n",
              "3    3.0     3.0  \n",
              "4    2.0     5.0  "
            ],
            "text/html": [
              "\n",
              "  <div id=\"df-a33095c7-99c9-415d-88e6-223e73f42e22\">\n",
              "    <div class=\"colab-df-container\">\n",
              "      <div>\n",
              "<style scoped>\n",
              "    .dataframe tbody tr th:only-of-type {\n",
              "        vertical-align: middle;\n",
              "    }\n",
              "\n",
              "    .dataframe tbody tr th {\n",
              "        vertical-align: top;\n",
              "    }\n",
              "\n",
              "    .dataframe thead th {\n",
              "        text-align: right;\n",
              "    }\n",
              "</style>\n",
              "<table border=\"1\" class=\"dataframe\">\n",
              "  <thead>\n",
              "    <tr style=\"text-align: right;\">\n",
              "      <th></th>\n",
              "      <th>Gender</th>\n",
              "      <th>Age</th>\n",
              "      <th>Weight</th>\n",
              "      <th>Social_Media</th>\n",
              "      <th>Order_Freq</th>\n",
              "      <th>Color</th>\n",
              "      <th>Movie</th>\n",
              "      <th>Music</th>\n",
              "      <th>Food</th>\n",
              "      <th>Sport</th>\n",
              "      <th>Travel</th>\n",
              "    </tr>\n",
              "  </thead>\n",
              "  <tbody>\n",
              "    <tr>\n",
              "      <th>0</th>\n",
              "      <td>1.0</td>\n",
              "      <td>2.0</td>\n",
              "      <td>7.0</td>\n",
              "      <td>4.0</td>\n",
              "      <td>4.0</td>\n",
              "      <td>3.0</td>\n",
              "      <td>4.0</td>\n",
              "      <td>2.0</td>\n",
              "      <td>1.0</td>\n",
              "      <td>1.0</td>\n",
              "      <td>5.0</td>\n",
              "    </tr>\n",
              "    <tr>\n",
              "      <th>1</th>\n",
              "      <td>0.0</td>\n",
              "      <td>2.0</td>\n",
              "      <td>4.0</td>\n",
              "      <td>1.0</td>\n",
              "      <td>1.0</td>\n",
              "      <td>8.0</td>\n",
              "      <td>2.0</td>\n",
              "      <td>2.0</td>\n",
              "      <td>1.0</td>\n",
              "      <td>4.0</td>\n",
              "      <td>3.0</td>\n",
              "    </tr>\n",
              "    <tr>\n",
              "      <th>2</th>\n",
              "      <td>0.0</td>\n",
              "      <td>2.0</td>\n",
              "      <td>3.0</td>\n",
              "      <td>1.0</td>\n",
              "      <td>2.0</td>\n",
              "      <td>1.0</td>\n",
              "      <td>4.0</td>\n",
              "      <td>10.0</td>\n",
              "      <td>4.0</td>\n",
              "      <td>7.0</td>\n",
              "      <td>9.0</td>\n",
              "    </tr>\n",
              "    <tr>\n",
              "      <th>3</th>\n",
              "      <td>1.0</td>\n",
              "      <td>1.0</td>\n",
              "      <td>6.0</td>\n",
              "      <td>1.0</td>\n",
              "      <td>1.0</td>\n",
              "      <td>1.0</td>\n",
              "      <td>7.0</td>\n",
              "      <td>2.0</td>\n",
              "      <td>9.0</td>\n",
              "      <td>3.0</td>\n",
              "      <td>3.0</td>\n",
              "    </tr>\n",
              "    <tr>\n",
              "      <th>4</th>\n",
              "      <td>1.0</td>\n",
              "      <td>2.0</td>\n",
              "      <td>8.0</td>\n",
              "      <td>4.0</td>\n",
              "      <td>4.0</td>\n",
              "      <td>3.0</td>\n",
              "      <td>5.0</td>\n",
              "      <td>2.0</td>\n",
              "      <td>4.0</td>\n",
              "      <td>2.0</td>\n",
              "      <td>5.0</td>\n",
              "    </tr>\n",
              "  </tbody>\n",
              "</table>\n",
              "</div>\n",
              "      <button class=\"colab-df-convert\" onclick=\"convertToInteractive('df-a33095c7-99c9-415d-88e6-223e73f42e22')\"\n",
              "              title=\"Convert this dataframe to an interactive table.\"\n",
              "              style=\"display:none;\">\n",
              "        \n",
              "  <svg xmlns=\"http://www.w3.org/2000/svg\" height=\"24px\"viewBox=\"0 0 24 24\"\n",
              "       width=\"24px\">\n",
              "    <path d=\"M0 0h24v24H0V0z\" fill=\"none\"/>\n",
              "    <path d=\"M18.56 5.44l.94 2.06.94-2.06 2.06-.94-2.06-.94-.94-2.06-.94 2.06-2.06.94zm-11 1L8.5 8.5l.94-2.06 2.06-.94-2.06-.94L8.5 2.5l-.94 2.06-2.06.94zm10 10l.94 2.06.94-2.06 2.06-.94-2.06-.94-.94-2.06-.94 2.06-2.06.94z\"/><path d=\"M17.41 7.96l-1.37-1.37c-.4-.4-.92-.59-1.43-.59-.52 0-1.04.2-1.43.59L10.3 9.45l-7.72 7.72c-.78.78-.78 2.05 0 2.83L4 21.41c.39.39.9.59 1.41.59.51 0 1.02-.2 1.41-.59l7.78-7.78 2.81-2.81c.8-.78.8-2.07 0-2.86zM5.41 20L4 18.59l7.72-7.72 1.47 1.35L5.41 20z\"/>\n",
              "  </svg>\n",
              "      </button>\n",
              "      \n",
              "  <style>\n",
              "    .colab-df-container {\n",
              "      display:flex;\n",
              "      flex-wrap:wrap;\n",
              "      gap: 12px;\n",
              "    }\n",
              "\n",
              "    .colab-df-convert {\n",
              "      background-color: #E8F0FE;\n",
              "      border: none;\n",
              "      border-radius: 50%;\n",
              "      cursor: pointer;\n",
              "      display: none;\n",
              "      fill: #1967D2;\n",
              "      height: 32px;\n",
              "      padding: 0 0 0 0;\n",
              "      width: 32px;\n",
              "    }\n",
              "\n",
              "    .colab-df-convert:hover {\n",
              "      background-color: #E2EBFA;\n",
              "      box-shadow: 0px 1px 2px rgba(60, 64, 67, 0.3), 0px 1px 3px 1px rgba(60, 64, 67, 0.15);\n",
              "      fill: #174EA6;\n",
              "    }\n",
              "\n",
              "    [theme=dark] .colab-df-convert {\n",
              "      background-color: #3B4455;\n",
              "      fill: #D2E3FC;\n",
              "    }\n",
              "\n",
              "    [theme=dark] .colab-df-convert:hover {\n",
              "      background-color: #434B5C;\n",
              "      box-shadow: 0px 1px 3px 1px rgba(0, 0, 0, 0.15);\n",
              "      filter: drop-shadow(0px 1px 2px rgba(0, 0, 0, 0.3));\n",
              "      fill: #FFFFFF;\n",
              "    }\n",
              "  </style>\n",
              "\n",
              "      <script>\n",
              "        const buttonEl =\n",
              "          document.querySelector('#df-a33095c7-99c9-415d-88e6-223e73f42e22 button.colab-df-convert');\n",
              "        buttonEl.style.display =\n",
              "          google.colab.kernel.accessAllowed ? 'block' : 'none';\n",
              "\n",
              "        async function convertToInteractive(key) {\n",
              "          const element = document.querySelector('#df-a33095c7-99c9-415d-88e6-223e73f42e22');\n",
              "          const dataTable =\n",
              "            await google.colab.kernel.invokeFunction('convertToInteractive',\n",
              "                                                     [key], {});\n",
              "          if (!dataTable) return;\n",
              "\n",
              "          const docLinkHtml = 'Like what you see? Visit the ' +\n",
              "            '<a target=\"_blank\" href=https://colab.research.google.com/notebooks/data_table.ipynb>data table notebook</a>'\n",
              "            + ' to learn more about interactive tables.';\n",
              "          element.innerHTML = '';\n",
              "          dataTable['output_type'] = 'display_data';\n",
              "          await google.colab.output.renderOutput(dataTable, element);\n",
              "          const docLink = document.createElement('div');\n",
              "          docLink.innerHTML = docLinkHtml;\n",
              "          element.appendChild(docLink);\n",
              "        }\n",
              "      </script>\n",
              "    </div>\n",
              "  </div>\n",
              "  "
            ]
          },
          "metadata": {},
          "execution_count": 96
        }
      ]
    },
    {
      "cell_type": "code",
      "source": [
        "df.info()"
      ],
      "metadata": {
        "colab": {
          "base_uri": "https://localhost:8080/"
        },
        "id": "F9LD8v-a3JpR",
        "outputId": "70008720-c408-4940-935b-73bb3f4ca527"
      },
      "execution_count": 97,
      "outputs": [
        {
          "output_type": "stream",
          "name": "stdout",
          "text": [
            "<class 'pandas.core.frame.DataFrame'>\n",
            "RangeIndex: 418 entries, 0 to 417\n",
            "Data columns (total 11 columns):\n",
            " #   Column        Non-Null Count  Dtype  \n",
            "---  ------        --------------  -----  \n",
            " 0   Gender        418 non-null    float64\n",
            " 1   Age           418 non-null    float64\n",
            " 2   Weight        418 non-null    float64\n",
            " 3   Social_Media  418 non-null    float64\n",
            " 4   Order_Freq    418 non-null    float64\n",
            " 5   Color         418 non-null    float64\n",
            " 6   Movie         418 non-null    float64\n",
            " 7   Music         418 non-null    float64\n",
            " 8   Food          418 non-null    float64\n",
            " 9   Sport         418 non-null    float64\n",
            " 10  Travel        418 non-null    float64\n",
            "dtypes: float64(11)\n",
            "memory usage: 36.0 KB\n"
          ]
        }
      ]
    },
    {
      "cell_type": "code",
      "source": [
        "df_target = df['Gender'].values # prediction value\n",
        "df_features = df.drop(['Gender'], axis=1) # df except prediction\n",
        "\n",
        "feature_cols = df_features.columns.values.tolist()"
      ],
      "metadata": {
        "id": "_fHIV8Myl6nx"
      },
      "execution_count": 98,
      "outputs": []
    },
    {
      "cell_type": "markdown",
      "source": [
        "# **Principal Component Analysis**"
      ],
      "metadata": {
        "id": "NYcwfCPrCSks"
      }
    },
    {
      "cell_type": "code",
      "source": [
        "from sklearn.decomposition import PCA\n",
        "# step of deciding on the number of components\n",
        "pca_temp = PCA()\n",
        "principalComponents = pca_temp.fit_transform(df_features)\n",
        "print(np.cumsum((pca_temp.explained_variance_ratio_)))"
      ],
      "metadata": {
        "colab": {
          "base_uri": "https://localhost:8080/"
        },
        "id": "BjJ9ygSeCVsb",
        "outputId": "76654bda-b783-4b07-e269-fa1b61f24c5f"
      },
      "execution_count": 99,
      "outputs": [
        {
          "output_type": "stream",
          "name": "stdout",
          "text": [
            "[0.20133288 0.3705898  0.52235528 0.65871483 0.76001191 0.84520167\n",
            " 0.91185489 0.96177935 0.98267407 1.        ]\n"
          ]
        }
      ]
    },
    {
      "cell_type": "code",
      "source": [
        "pca = PCA(n_components=5)\n",
        "df_pca = pca.fit_transform(df_features)"
      ],
      "metadata": {
        "id": "8KNExY-XCqtf"
      },
      "execution_count": 100,
      "outputs": []
    },
    {
      "cell_type": "markdown",
      "source": [
        "# **Feature Importance**"
      ],
      "metadata": {
        "id": "jBh-9m8d3YMv"
      }
    },
    {
      "cell_type": "code",
      "source": [
        "# decision tree for feature importance on a classification problem\n",
        "from sklearn.datasets import make_classification\n",
        "from sklearn.tree import DecisionTreeClassifier\n",
        "from sklearn.preprocessing import normalize\n",
        "\n",
        "# define the model\n",
        "model = DecisionTreeClassifier()\n",
        "\n",
        "# fit the model\n",
        "model = model.fit(df_features, df_target)\n",
        "\n",
        "# get importance\n",
        "importance = model.feature_importances_\n",
        "\n",
        "n = list(df_features.columns)\n",
        "s = normalize([importance.tolist()])[0]\n",
        "line = plt.bar(n,s)\n",
        "plt.xlabel('Feature')\n",
        "plt.ylabel(\"Importance Rate\")\n",
        "\n",
        "for i in range(len(s)):\n",
        "    plt.annotate(str(round(s[i], 2)), xy=(n[i],s[i]), ha='center', va='bottom')\n",
        "\n",
        "plt.xticks(rotation = 90)\n",
        "plt.show()"
      ],
      "metadata": {
        "colab": {
          "base_uri": "https://localhost:8080/",
          "height": 334
        },
        "id": "6XSkAUL63aFU",
        "outputId": "794436ee-2818-42b8-c395-c5e814a14fe1"
      },
      "execution_count": 101,
      "outputs": [
        {
          "output_type": "display_data",
          "data": {
            "text/plain": [
              "<Figure size 432x288 with 1 Axes>"
            ],
            "image/png": "[encoded data removed]"
          },
          "metadata": {
            "needs_background": "light"
          }
        }
      ]
    },
    {
      "cell_type": "markdown",
      "source": [
        "# **Train and Test Data Split**"
      ],
      "metadata": {
        "id": "Dx3rpTIk3ocU"
      }
    },
    {
      "cell_type": "code",
      "source": [
        "from sklearn.model_selection import train_test_split\n",
        "\n",
        "# The dataset is split according to the 10-layer cross validation rule.\n",
        "X_train, X_test, y_train, y_test = train_test_split(df_features, df_target, test_size=0.1, random_state=3)\n",
        "print ('Train set:', X_train.shape,  y_train.shape)\n",
        "print ('Test set:', X_test.shape,  y_test.shape)\n",
        "\n",
        "# The dataset is split according to the 10-layer cross validation rule by top 4 feature\n",
        "\n",
        "important_features_df = df[['Color','Weight','Music','Sport']]\n",
        "\n",
        "X_train_imp, X_test_imp, y_train_imp, y_test_imp = train_test_split(important_features_df, df_target, test_size=0.1, random_state=3)\n",
        "print ('Train set Imp Fea:', X_train_imp.shape,  y_train_imp.shape)\n",
        "print ('Test set Imp Fea:', X_test_imp.shape,  y_test_imp.shape)\n",
        "\n",
        "# Split for PCA\n",
        "\n",
        "X_train_pca, X_test_pca, y_train_pca, y_test_pca = train_test_split(df_pca, df_target, test_size=0.1, random_state=3)\n",
        "print ('Train set PCA:', X_train_pca.shape,  y_train_pca.shape)\n",
        "print ('Test set PCA:', X_test_pca.shape,  y_test_pca.shape)"
      ],
      "metadata": {
        "colab": {
          "base_uri": "https://localhost:8080/"
        },
        "id": "x6bun8IY3sS8",
        "outputId": "0a8225e2-5cd4-431e-b926-bd30b34e179a"
      },
      "execution_count": 102,
      "outputs": [
        {
          "output_type": "stream",
          "name": "stdout",
          "text": [
            "Train set: (376, 10) (376,)\n",
            "Test set: (42, 10) (42,)\n",
            "Train set Imp Fea: (376, 4) (376,)\n",
            "Test set Imp Fea: (42, 4) (42,)\n",
            "Train set PCA: (376, 5) (376,)\n",
            "Test set PCA: (42, 5) (42,)\n"
          ]
        }
      ]
    },
    {
      "cell_type": "markdown",
      "source": [
        "# **Naive Bayes Classifier**"
      ],
      "metadata": {
        "id": "9Rx0cS7Q31d7"
      }
    },
    {
      "cell_type": "code",
      "source": [
        "from sklearn.naive_bayes import GaussianNB\n",
        "from sklearn.metrics import accuracy_score, plot_confusion_matrix, confusion_matrix\n",
        "from sklearn.metrics import classification_report\n",
        "from sklearn.model_selection import KFold, cross_val_score\n",
        "\n",
        "# Training\n",
        "clf = GaussianNB()\n",
        "clf.fit(X_train, y_train)\n",
        "\n",
        "# Predicting\n",
        "yhat=(clf.predict(X_test))\n",
        "\n",
        "# Accuracy evaluation\n",
        "print(\"Test set Accuracy: \", accuracy_score(y_test, yhat))\n",
        "\n",
        "plot_confusion_matrix(clf, X_test, y_test, values_format = '')  \n",
        "plt.xticks(range(2), target_columns, ha='right', rotation=31)\n",
        "plt.yticks(range(2), target_columns)\n",
        "plt.show()"
      ],
      "metadata": {
        "colab": {
          "base_uri": "https://localhost:8080/",
          "height": 309
        },
        "id": "UrA17_w_33aI",
        "outputId": "78becbed-ece7-41b8-9190-8ce7ce4f5207"
      },
      "execution_count": 103,
      "outputs": [
        {
          "output_type": "stream",
          "name": "stdout",
          "text": [
            "Test set Accuracy:  0.8809523809523809\n"
          ]
        },
        {
          "output_type": "display_data",
          "data": {
            "text/plain": [
              "<Figure size 432x288 with 2 Axes>"
            ],
            "image/png": "[encoded data removed]"
          },
          "metadata": {
            "needs_background": "light"
          }
        }
      ]
    },
    {
      "cell_type": "markdown",
      "source": [
        "## **K-Fold**"
      ],
      "metadata": {
        "id": "VvX32n47PC0v"
      }
    },
    {
      "cell_type": "code",
      "source": [
        "k_fold=KFold(n_splits=10, shuffle=False, random_state=None)\n",
        "clf = GaussianNB()\n",
        "cross_val = cross_val_score(clf, df_features, df_target, cv=k_fold, n_jobs=1)\n",
        "print(cross_val)"
      ],
      "metadata": {
        "colab": {
          "base_uri": "https://localhost:8080/"
        },
        "id": "y1ZTZBVPPFtG",
        "outputId": "160f1aad-de01-4197-b7af-c456b4f4ba62"
      },
      "execution_count": 104,
      "outputs": [
        {
          "output_type": "stream",
          "name": "stdout",
          "text": [
            "[0.80952381 0.88095238 0.83333333 0.85714286 0.85714286 0.83333333\n",
            " 0.83333333 0.83333333 0.87804878 0.80487805]\n"
          ]
        }
      ]
    },
    {
      "cell_type": "code",
      "source": [
        "print(f'Mean K-Fold:{np.mean(cross_val)}')"
      ],
      "metadata": {
        "colab": {
          "base_uri": "https://localhost:8080/"
        },
        "id": "1hNEcXkpQutC",
        "outputId": "34e1e834-9239-4eb0-fafd-92d0786626aa"
      },
      "execution_count": 105,
      "outputs": [
        {
          "output_type": "stream",
          "name": "stdout",
          "text": [
            "Mean K-Fold:0.842102206736353\n"
          ]
        }
      ]
    },
    {
      "cell_type": "markdown",
      "source": [
        "## **Important Feature Based**"
      ],
      "metadata": {
        "id": "t_Rekbo46V9v"
      }
    },
    {
      "cell_type": "code",
      "source": [
        "# Training\n",
        "clf = GaussianNB()\n",
        "clf.fit(X_train_imp, y_train_imp)\n",
        "\n",
        "# Predicting\n",
        "yhat=clf.predict(X_test_imp)\n",
        "\n",
        "# Accuracy evaluation\n",
        "print(classification_report(y_test_imp, yhat))\n",
        "print(\"Test set Accuracy: \", accuracy_score(y_test_imp, yhat))\n",
        "\n",
        "plot_confusion_matrix(clf, X_test_imp, y_test_imp, values_format = '')  \n",
        "plt.xticks(range(2), target_columns, ha='right', rotation=31)\n",
        "plt.yticks(range(2), target_columns)\n",
        "plt.show()"
      ],
      "metadata": {
        "colab": {
          "base_uri": "https://localhost:8080/",
          "height": 466
        },
        "id": "YgEWKiTI6ZsA",
        "outputId": "503e329d-dbaa-49f2-ec4d-30c37eae0a02"
      },
      "execution_count": 106,
      "outputs": [
        {
          "output_type": "stream",
          "name": "stdout",
          "text": [
            "              precision    recall  f1-score   support\n",
            "\n",
            "         0.0       0.82      0.82      0.82        11\n",
            "         1.0       0.94      0.94      0.94        31\n",
            "\n",
            "    accuracy                           0.90        42\n",
            "   macro avg       0.88      0.88      0.88        42\n",
            "weighted avg       0.90      0.90      0.90        42\n",
            "\n",
            "Test set Accuracy:  0.9047619047619048\n"
          ]
        },
        {
          "output_type": "display_data",
          "data": {
            "text/plain": [
              "<Figure size 432x288 with 2 Axes>"
            ],
            "image/png": "[encoded data removed]"
          },
          "metadata": {
            "needs_background": "light"
          }
        }
      ]
    },
    {
      "cell_type": "markdown",
      "source": [
        "## **Principle Component Analysis**"
      ],
      "metadata": {
        "id": "-tXTN7kEDWBK"
      }
    },
    {
      "cell_type": "code",
      "source": [
        "# Training\n",
        "clf = GaussianNB()\n",
        "clf.fit(X_train_pca, y_train_pca)\n",
        "\n",
        "# Predicting\n",
        "yhat=clf.predict(X_test_pca)\n",
        "\n",
        "# Accuracy evaluation\n",
        "print(classification_report(y_test_pca, yhat))\n",
        "print(\"Test set Accuracy: \", accuracy_score(y_test_pca, yhat))\n",
        "\n",
        "plot_confusion_matrix(clf, X_test_pca, y_test_pca, values_format = '')  \n",
        "plt.xticks(range(2), target_columns, ha='right', rotation=31)\n",
        "plt.yticks(range(2), target_columns)\n",
        "plt.show()"
      ],
      "metadata": {
        "colab": {
          "base_uri": "https://localhost:8080/",
          "height": 466
        },
        "id": "kDShmrRoDa9N",
        "outputId": "bb81cdfa-18d1-4372-ae69-545f46cf5c14"
      },
      "execution_count": 107,
      "outputs": [
        {
          "output_type": "stream",
          "name": "stdout",
          "text": [
            "              precision    recall  f1-score   support\n",
            "\n",
            "         0.0       0.25      0.09      0.13        11\n",
            "         1.0       0.74      0.90      0.81        31\n",
            "\n",
            "    accuracy                           0.69        42\n",
            "   macro avg       0.49      0.50      0.47        42\n",
            "weighted avg       0.61      0.69      0.63        42\n",
            "\n",
            "Test set Accuracy:  0.6904761904761905\n"
          ]
        },
        {
          "output_type": "display_data",
          "data": {
            "text/plain": [
              "<Figure size 432x288 with 2 Axes>"
            ],
            "image/png": "[encoded data removed]"
          },
          "metadata": {
            "needs_background": "light"
          }
        }
      ]
    },
    {
      "cell_type": "markdown",
      "source": [
        "# **K Nearest Neighbour**"
      ],
      "metadata": {
        "id": "6kMTv1mN7PJW"
      }
    },
    {
      "cell_type": "code",
      "source": [
        "from sklearn.neighbors import KNeighborsClassifier\n",
        "\n",
        "# Fitting classifier to the Training set\n",
        "knnclf = KNeighborsClassifier(n_neighbors = 3)\n",
        "knnclf.fit(X_train, y_train)\n",
        "\n",
        "# Predicting the Test set results\n",
        "khat = knnclf.predict(X_test)\n",
        "#Evaluating the Algorithm\n",
        "print(classification_report(y_test, khat))\n",
        "print(\"Test set Accuracy: \", accuracy_score(y_test, khat))\n",
        "\n",
        "plot_confusion_matrix(knnclf, X_test, y_test, values_format = '')  \n",
        "plt.xticks(range(2), target_columns, ha='right', rotation=31)\n",
        "plt.yticks(range(2), target_columns)\n",
        "plt.show()"
      ],
      "metadata": {
        "colab": {
          "base_uri": "https://localhost:8080/",
          "height": 466
        },
        "id": "vljfmOea7RRQ",
        "outputId": "f9b0d151-6ca4-4664-e009-4cf863373271"
      },
      "execution_count": 108,
      "outputs": [
        {
          "output_type": "stream",
          "name": "stdout",
          "text": [
            "              precision    recall  f1-score   support\n",
            "\n",
            "         0.0       0.75      0.55      0.63        11\n",
            "         1.0       0.85      0.94      0.89        31\n",
            "\n",
            "    accuracy                           0.83        42\n",
            "   macro avg       0.80      0.74      0.76        42\n",
            "weighted avg       0.83      0.83      0.82        42\n",
            "\n",
            "Test set Accuracy:  0.8333333333333334\n"
          ]
        },
        {
          "output_type": "display_data",
          "data": {
            "text/plain": [
              "<Figure size 432x288 with 2 Axes>"
            ],
            "image/png": "[encoded data removed]"
          },
          "metadata": {
            "needs_background": "light"
          }
        }
      ]
    },
    {
      "cell_type": "markdown",
      "source": [
        "## **K-Fold**"
      ],
      "metadata": {
        "id": "9MyrlZX6PyfB"
      }
    },
    {
      "cell_type": "code",
      "source": [
        "knnclf = KNeighborsClassifier(n_neighbors = 3)\n",
        "cross_val = cross_val_score(knnclf, df_features, df_target, cv=k_fold, n_jobs=1)\n",
        "print(cross_val)"
      ],
      "metadata": {
        "colab": {
          "base_uri": "https://localhost:8080/"
        },
        "id": "GzWVQeAOPvza",
        "outputId": "97181cd5-4fe4-4878-fe62-10f1985bfb85"
      },
      "execution_count": 109,
      "outputs": [
        {
          "output_type": "stream",
          "name": "stdout",
          "text": [
            "[0.64285714 0.83333333 0.71428571 0.78571429 0.95238095 0.85714286\n",
            " 0.80952381 0.85714286 0.7804878  0.75609756]\n"
          ]
        }
      ]
    },
    {
      "cell_type": "code",
      "source": [
        "print(f'Mean K-Fold:{np.mean(cross_val)}')"
      ],
      "metadata": {
        "colab": {
          "base_uri": "https://localhost:8080/"
        },
        "id": "gMvGtFY2Rwjd",
        "outputId": "37558170-6552-4f35-8533-8d33ce5afc1d"
      },
      "execution_count": 110,
      "outputs": [
        {
          "output_type": "stream",
          "name": "stdout",
          "text": [
            "Mean K-Fold:0.798896631823461\n"
          ]
        }
      ]
    },
    {
      "cell_type": "markdown",
      "source": [
        "## **Important Feature Based**"
      ],
      "metadata": {
        "id": "zGaXicLa8O9C"
      }
    },
    {
      "cell_type": "code",
      "source": [
        "# Fitting classifier to the Training set\n",
        "knnclf = KNeighborsClassifier(n_neighbors = 3)\n",
        "knnclf.fit(X_train_imp, y_train_imp)\n",
        "\n",
        "# Predicting the Test set results\n",
        "khat = knnclf.predict(X_test_imp)\n",
        "#Evaluating the Algorithm\n",
        "print(classification_report(y_test_imp, khat))\n",
        "print(\"Test set Accuracy: \", accuracy_score(y_test_imp, khat))\n",
        "\n",
        "plot_confusion_matrix(knnclf, X_test_imp, y_test_imp, values_format = '')  \n",
        "plt.xticks(range(2), target_columns, ha='right', rotation=31)\n",
        "plt.yticks(range(2), target_columns)\n",
        "plt.show()"
      ],
      "metadata": {
        "colab": {
          "base_uri": "https://localhost:8080/",
          "height": 466
        },
        "id": "zApzuj7n8Px_",
        "outputId": "42ab5510-590f-4380-a09c-21f2a0a4c2ee"
      },
      "execution_count": 111,
      "outputs": [
        {
          "output_type": "stream",
          "name": "stdout",
          "text": [
            "              precision    recall  f1-score   support\n",
            "\n",
            "         0.0       0.75      0.82      0.78        11\n",
            "         1.0       0.93      0.90      0.92        31\n",
            "\n",
            "    accuracy                           0.88        42\n",
            "   macro avg       0.84      0.86      0.85        42\n",
            "weighted avg       0.89      0.88      0.88        42\n",
            "\n",
            "Test set Accuracy:  0.8809523809523809\n"
          ]
        },
        {
          "output_type": "display_data",
          "data": {
            "text/plain": [
              "<Figure size 432x288 with 2 Axes>"
            ],
            "image/png": "[encoded data removed]"
          },
          "metadata": {
            "needs_background": "light"
          }
        }
      ]
    },
    {
      "cell_type": "markdown",
      "source": [
        "## **Principle Component Analysis**"
      ],
      "metadata": {
        "id": "H4fahEUkGEgz"
      }
    },
    {
      "cell_type": "code",
      "source": [
        "# Fitting classifier to the Training set\n",
        "knnclf = KNeighborsClassifier(n_neighbors = 3)\n",
        "knnclf.fit(X_train_pca, y_train_pca)\n",
        "\n",
        "# Predicting the Test set results\n",
        "khat = knnclf.predict(X_test_pca)\n",
        "#Evaluating the Algorithm\n",
        "print(classification_report(y_test_pca, khat))\n",
        "print(\"Test set Accuracy: \", accuracy_score(y_test_pca, khat))\n",
        "\n",
        "plot_confusion_matrix(knnclf, X_test_pca, y_test_pca, values_format = '')  \n",
        "plt.xticks(range(2), target_columns, ha='right', rotation=31)\n",
        "plt.yticks(range(2), target_columns)\n",
        "plt.show()"
      ],
      "metadata": {
        "colab": {
          "base_uri": "https://localhost:8080/",
          "height": 470
        },
        "id": "WDAvJnZpGDH_",
        "outputId": "1f31d56a-a5f3-401a-ab4a-cd7de624509f"
      },
      "execution_count": 112,
      "outputs": [
        {
          "output_type": "stream",
          "name": "stdout",
          "text": [
            "              precision    recall  f1-score   support\n",
            "\n",
            "         0.0       0.25      0.18      0.21        11\n",
            "         1.0       0.74      0.81      0.77        31\n",
            "\n",
            "    accuracy                           0.64        42\n",
            "   macro avg       0.49      0.49      0.49        42\n",
            "weighted avg       0.61      0.64      0.62        42\n",
            "\n",
            "Test set Accuracy:  0.6428571428571429\n"
          ]
        },
        {
          "output_type": "display_data",
          "data": {
            "text/plain": [
              "<Figure size 432x288 with 2 Axes>"
            ],
            "image/png": "[encoded data removed]"
          },
          "metadata": {
            "needs_background": "light"
          }
        }
      ]
    },
    {
      "cell_type": "markdown",
      "source": [
        "# **Random Forest Classification**"
      ],
      "metadata": {
        "id": "I45WYrUN8n4-"
      }
    },
    {
      "cell_type": "code",
      "source": [
        "from sklearn.ensemble import RandomForestClassifier\n",
        "\n",
        "rfc = RandomForestClassifier(random_state=2020)\n",
        "rfc.fit(X_train, y_train)\n",
        "\n",
        "rhat = rfc.predict(X_test)\n",
        "\n",
        "print(classification_report(y_test, rhat))\n",
        "print(\"Test set Accuracy: \", accuracy_score(y_test, rhat))\n",
        "\n",
        "plot_confusion_matrix(rfc, X_test, y_test, values_format = '')  \n",
        "plt.xticks(range(2), target_columns, ha='right', rotation=31)\n",
        "plt.yticks(range(2), target_columns)\n",
        "plt.show()"
      ],
      "metadata": {
        "colab": {
          "base_uri": "https://localhost:8080/",
          "height": 470
        },
        "id": "awMmNGjS8o9d",
        "outputId": "3c7e794e-d624-4ced-8d3d-1cd1b763b649"
      },
      "execution_count": 113,
      "outputs": [
        {
          "output_type": "stream",
          "name": "stdout",
          "text": [
            "              precision    recall  f1-score   support\n",
            "\n",
            "         0.0       0.86      0.55      0.67        11\n",
            "         1.0       0.86      0.97      0.91        31\n",
            "\n",
            "    accuracy                           0.86        42\n",
            "   macro avg       0.86      0.76      0.79        42\n",
            "weighted avg       0.86      0.86      0.85        42\n",
            "\n",
            "Test set Accuracy:  0.8571428571428571\n"
          ]
        },
        {
          "output_type": "display_data",
          "data": {
            "text/plain": [
              "<Figure size 432x288 with 2 Axes>"
            ],
            "image/png": "[encoded data removed]"
          },
          "metadata": {
            "needs_background": "light"
          }
        }
      ]
    },
    {
      "cell_type": "markdown",
      "source": [
        "## **K-Fold**"
      ],
      "metadata": {
        "id": "DDUqQD6oQCh5"
      }
    },
    {
      "cell_type": "code",
      "source": [
        "rfc = RandomForestClassifier(random_state=2020)\n",
        "cross_val = cross_val_score(rfc, df_features, df_target, cv=k_fold, n_jobs=1)\n",
        "print(cross_val)"
      ],
      "metadata": {
        "colab": {
          "base_uri": "https://localhost:8080/"
        },
        "id": "aonVtLt2QEQj",
        "outputId": "565ce39f-5e5a-4fce-c05b-6687a7866249"
      },
      "execution_count": 114,
      "outputs": [
        {
          "output_type": "stream",
          "name": "stdout",
          "text": [
            "[0.88095238 0.9047619  0.83333333 0.9047619  0.88095238 0.80952381\n",
            " 0.9047619  0.83333333 0.87804878 0.82926829]\n"
          ]
        }
      ]
    },
    {
      "cell_type": "code",
      "source": [
        "print(f'Mean K-Fold:{np.mean(cross_val)}')"
      ],
      "metadata": {
        "colab": {
          "base_uri": "https://localhost:8080/"
        },
        "id": "Vn94yBfxR2RG",
        "outputId": "25321261-7702-4326-97e7-75477f650ba9"
      },
      "execution_count": 115,
      "outputs": [
        {
          "output_type": "stream",
          "name": "stdout",
          "text": [
            "Mean K-Fold:0.8659698025551684\n"
          ]
        }
      ]
    },
    {
      "cell_type": "markdown",
      "source": [
        "## **Important Feature Based**"
      ],
      "metadata": {
        "id": "QeSjwllu8xvt"
      }
    },
    {
      "cell_type": "code",
      "source": [
        "rfc = RandomForestClassifier(random_state=2020)\n",
        "rfc.fit(X_train_imp, y_train_imp)\n",
        "\n",
        "rhat = rfc.predict(X_test_imp)\n",
        "\n",
        "print(classification_report(y_test_imp, rhat))\n",
        "print(\"Test set Accuracy: \", accuracy_score(y_test_imp, rhat))\n",
        "\n",
        "plot_confusion_matrix(rfc, X_test_imp, y_test_imp, values_format = '')  \n",
        "plt.xticks(range(2), target_columns, ha='right', rotation=31)\n",
        "plt.yticks(range(2), target_columns)\n",
        "plt.show()"
      ],
      "metadata": {
        "colab": {
          "base_uri": "https://localhost:8080/",
          "height": 470
        },
        "id": "MOBJZoyg8ylm",
        "outputId": "700cb821-ea6c-4c84-8649-b0ce004f0630"
      },
      "execution_count": 116,
      "outputs": [
        {
          "output_type": "stream",
          "name": "stdout",
          "text": [
            "              precision    recall  f1-score   support\n",
            "\n",
            "         0.0       0.90      0.82      0.86        11\n",
            "         1.0       0.94      0.97      0.95        31\n",
            "\n",
            "    accuracy                           0.93        42\n",
            "   macro avg       0.92      0.89      0.90        42\n",
            "weighted avg       0.93      0.93      0.93        42\n",
            "\n",
            "Test set Accuracy:  0.9285714285714286\n"
          ]
        },
        {
          "output_type": "display_data",
          "data": {
            "text/plain": [
              "<Figure size 432x288 with 2 Axes>"
            ],
            "image/png": "[encoded data removed]"
          },
          "metadata": {
            "needs_background": "light"
          }
        }
      ]
    },
    {
      "cell_type": "markdown",
      "source": [
        "## **Principle Component Analysis**"
      ],
      "metadata": {
        "id": "Bn__9zrgHyoC"
      }
    },
    {
      "cell_type": "code",
      "source": [
        "rfc = RandomForestClassifier(random_state=2020)\n",
        "rfc.fit(X_train_pca, y_train_pca)\n",
        "\n",
        "rhat = rfc.predict(X_test_pca)\n",
        "\n",
        "print(classification_report(y_test_pca, rhat))\n",
        "print(\"Test set Accuracy: \", accuracy_score(y_test_pca, rhat))\n",
        "\n",
        "plot_confusion_matrix(rfc, X_test_pca, y_test_pca, values_format = '')  \n",
        "plt.xticks(range(2), target_columns, ha='right', rotation=31)\n",
        "plt.yticks(range(2), target_columns)\n",
        "plt.show()"
      ],
      "metadata": {
        "colab": {
          "base_uri": "https://localhost:8080/",
          "height": 466
        },
        "id": "i9i0nYVLHzRb",
        "outputId": "24fa34d5-af76-408b-ae41-83ec071a3b95"
      },
      "execution_count": 117,
      "outputs": [
        {
          "output_type": "stream",
          "name": "stdout",
          "text": [
            "              precision    recall  f1-score   support\n",
            "\n",
            "         0.0       0.40      0.18      0.25        11\n",
            "         1.0       0.76      0.90      0.82        31\n",
            "\n",
            "    accuracy                           0.71        42\n",
            "   macro avg       0.58      0.54      0.54        42\n",
            "weighted avg       0.66      0.71      0.67        42\n",
            "\n",
            "Test set Accuracy:  0.7142857142857143\n"
          ]
        },
        {
          "output_type": "display_data",
          "data": {
            "text/plain": [
              "<Figure size 432x288 with 2 Axes>"
            ],
            "image/png": "[encoded data removed]"
          },
          "metadata": {
            "needs_background": "light"
          }
        }
      ]
    },
    {
      "cell_type": "markdown",
      "source": [
        "# **Support Vector Machines**"
      ],
      "metadata": {
        "id": "8cA2O4Pg8_9U"
      }
    },
    {
      "cell_type": "code",
      "source": [
        "from sklearn.svm import SVC\n",
        "\n",
        "svm = SVC()\n",
        "svm.fit(X_train, y_train)\n",
        "\n",
        "svmhat = svm.predict(X_test)\n",
        "\n",
        "print(classification_report(y_test, svmhat))\n",
        "print(\"Test set Accuracy: \", accuracy_score(y_test, svmhat))\n",
        "\n",
        "plot_confusion_matrix(svm, X_test, y_test, values_format = '')  \n",
        "plt.xticks(range(2), target_columns, ha='right', rotation=31)\n",
        "plt.yticks(range(2), target_columns)\n",
        "plt.show()"
      ],
      "metadata": {
        "colab": {
          "base_uri": "https://localhost:8080/",
          "height": 466
        },
        "id": "5JfhernY9Acj",
        "outputId": "08aab715-c460-4031-bd8e-088e491a6400"
      },
      "execution_count": 118,
      "outputs": [
        {
          "output_type": "stream",
          "name": "stdout",
          "text": [
            "              precision    recall  f1-score   support\n",
            "\n",
            "         0.0       1.00      0.36      0.53        11\n",
            "         1.0       0.82      1.00      0.90        31\n",
            "\n",
            "    accuracy                           0.83        42\n",
            "   macro avg       0.91      0.68      0.72        42\n",
            "weighted avg       0.86      0.83      0.80        42\n",
            "\n",
            "Test set Accuracy:  0.8333333333333334\n"
          ]
        },
        {
          "output_type": "display_data",
          "data": {
            "text/plain": [
              "<Figure size 432x288 with 2 Axes>"
            ],
            "image/png": "[encoded data removed]"
          },
          "metadata": {
            "needs_background": "light"
          }
        }
      ]
    },
    {
      "cell_type": "markdown",
      "source": [
        "## **K-Fold**"
      ],
      "metadata": {
        "id": "9wyfnLBDR9Ri"
      }
    },
    {
      "cell_type": "code",
      "source": [
        "svm=SVC()\n",
        "cross_val = cross_val_score(svm, df_features, df_target, cv=k_fold, n_jobs=1)\n",
        "print(cross_val)"
      ],
      "metadata": {
        "colab": {
          "base_uri": "https://localhost:8080/"
        },
        "id": "FfIIcjqyR_CC",
        "outputId": "57db4b96-0d69-4405-8b51-771bd8bbb94d"
      },
      "execution_count": 119,
      "outputs": [
        {
          "output_type": "stream",
          "name": "stdout",
          "text": [
            "[0.73809524 0.88095238 0.76190476 0.80952381 0.88095238 0.85714286\n",
            " 0.80952381 0.92857143 0.87804878 0.82926829]\n"
          ]
        }
      ]
    },
    {
      "cell_type": "code",
      "source": [
        "print(f'Mean K-Fold:{np.mean(cross_val)}')"
      ],
      "metadata": {
        "colab": {
          "base_uri": "https://localhost:8080/"
        },
        "id": "nBZd2ggiSDpX",
        "outputId": "de4f5d49-42a2-4510-c8bd-2869d3bf2269"
      },
      "execution_count": 120,
      "outputs": [
        {
          "output_type": "stream",
          "name": "stdout",
          "text": [
            "Mean K-Fold:0.83739837398374\n"
          ]
        }
      ]
    },
    {
      "cell_type": "markdown",
      "source": [
        "## **Important Feature Based**"
      ],
      "metadata": {
        "id": "mL5V_bFP9bK8"
      }
    },
    {
      "cell_type": "code",
      "source": [
        "svm = SVC()\n",
        "svm.fit(X_train_imp, y_train_imp)\n",
        "\n",
        "svmhat = svm.predict(X_test_imp)\n",
        "\n",
        "print(classification_report(y_test_imp, svmhat))\n",
        "print(\"Test set Accuracy: \", accuracy_score(y_test_imp, svmhat))\n",
        "\n",
        "plot_confusion_matrix(svm, X_test_imp, y_test_imp, values_format = '')  \n",
        "plt.xticks(range(2), target_columns, ha='right', rotation=31)\n",
        "plt.yticks(range(2), target_columns)\n",
        "plt.show()"
      ],
      "metadata": {
        "colab": {
          "base_uri": "https://localhost:8080/",
          "height": 470
        },
        "id": "97-Jg7IC9b7S",
        "outputId": "379eeca3-756b-4070-cfce-dace219c6fee"
      },
      "execution_count": 121,
      "outputs": [
        {
          "output_type": "stream",
          "name": "stdout",
          "text": [
            "              precision    recall  f1-score   support\n",
            "\n",
            "         0.0       0.90      0.82      0.86        11\n",
            "         1.0       0.94      0.97      0.95        31\n",
            "\n",
            "    accuracy                           0.93        42\n",
            "   macro avg       0.92      0.89      0.90        42\n",
            "weighted avg       0.93      0.93      0.93        42\n",
            "\n",
            "Test set Accuracy:  0.9285714285714286\n"
          ]
        },
        {
          "output_type": "display_data",
          "data": {
            "text/plain": [
              "<Figure size 432x288 with 2 Axes>"
            ],
            "image/png": "[encoded data removed]"
          },
          "metadata": {
            "needs_background": "light"
          }
        }
      ]
    },
    {
      "cell_type": "markdown",
      "source": [
        "## **Principle Component Analysis**"
      ],
      "metadata": {
        "id": "kB2rhqLwJQXG"
      }
    },
    {
      "cell_type": "code",
      "source": [
        "svm = SVC()\n",
        "svm.fit(X_train_pca, y_train_pca)\n",
        "\n",
        "svmhat = svm.predict(X_test_pca)\n",
        "\n",
        "print(classification_report(y_test_pca, svmhat))\n",
        "print(\"Test set Accuracy: \", accuracy_score(y_test_pca, svmhat))\n",
        "\n",
        "plot_confusion_matrix(svm, X_test_pca, y_test_pca, values_format = '')  \n",
        "plt.xticks(range(2), target_columns, ha='right', rotation=31)\n",
        "plt.yticks(range(2), target_columns)\n",
        "plt.show()"
      ],
      "metadata": {
        "colab": {
          "base_uri": "https://localhost:8080/",
          "height": 466
        },
        "id": "cr2-uU4CJQ9Y",
        "outputId": "b3e2d9ee-7ecf-4fde-d80a-7d2cee289691"
      },
      "execution_count": 122,
      "outputs": [
        {
          "output_type": "stream",
          "name": "stdout",
          "text": [
            "              precision    recall  f1-score   support\n",
            "\n",
            "         0.0       0.33      0.09      0.14        11\n",
            "         1.0       0.74      0.94      0.83        31\n",
            "\n",
            "    accuracy                           0.71        42\n",
            "   macro avg       0.54      0.51      0.49        42\n",
            "weighted avg       0.64      0.71      0.65        42\n",
            "\n",
            "Test set Accuracy:  0.7142857142857143\n"
          ]
        },
        {
          "output_type": "display_data",
          "data": {
            "text/plain": [
              "<Figure size 432x288 with 2 Axes>"
            ],
            "image/png": "[encoded data removed]"
          },
          "metadata": {
            "needs_background": "light"
          }
        }
      ]
    },
    {
      "cell_type": "markdown",
      "source": [
        "# **Decision Tree Classifier**"
      ],
      "metadata": {
        "id": "k1NbIYzT9spM"
      }
    },
    {
      "cell_type": "code",
      "source": [
        "classifier = DecisionTreeClassifier()\n",
        "classifier.fit(X_train, y_train)\n",
        "\n",
        "dhat = classifier.predict(X_test)\n",
        "\n",
        "#Evaluating the Algorithm\n",
        "print(classification_report(y_test, dhat))\n",
        "print(\"Test set Accuracy: \", accuracy_score(y_test, dhat))\n",
        "\n",
        "plot_confusion_matrix(classifier, X_test, y_test, values_format = '')  \n",
        "plt.xticks(range(2), target_columns, ha='right', rotation=31)\n",
        "plt.yticks(range(2), target_columns)\n",
        "plt.show()"
      ],
      "metadata": {
        "colab": {
          "base_uri": "https://localhost:8080/",
          "height": 466
        },
        "id": "VzGEbr5i9tVM",
        "outputId": "d89171f0-7c90-4a44-b865-483b92d3b584"
      },
      "execution_count": 123,
      "outputs": [
        {
          "output_type": "stream",
          "name": "stdout",
          "text": [
            "              precision    recall  f1-score   support\n",
            "\n",
            "         0.0       0.60      0.55      0.57        11\n",
            "         1.0       0.84      0.87      0.86        31\n",
            "\n",
            "    accuracy                           0.79        42\n",
            "   macro avg       0.72      0.71      0.71        42\n",
            "weighted avg       0.78      0.79      0.78        42\n",
            "\n",
            "Test set Accuracy:  0.7857142857142857\n"
          ]
        },
        {
          "output_type": "display_data",
          "data": {
            "text/plain": [
              "<Figure size 432x288 with 2 Axes>"
            ],
            "image/png": "[encoded data removed]"
          },
          "metadata": {
            "needs_background": "light"
          }
        }
      ]
    },
    {
      "cell_type": "markdown",
      "source": [
        "## **K-Fold**"
      ],
      "metadata": {
        "id": "Pei9-Dj1Scpr"
      }
    },
    {
      "cell_type": "code",
      "source": [
        "classifier = DecisionTreeClassifier()\n",
        "cross_val = cross_val_score(classifier, df_features, df_target, cv=k_fold, n_jobs=1)\n",
        "print(cross_val)"
      ],
      "metadata": {
        "colab": {
          "base_uri": "https://localhost:8080/"
        },
        "id": "et0BZHPQSd8_",
        "outputId": "c72dba46-2998-4253-dde4-6f3c09319a74"
      },
      "execution_count": 124,
      "outputs": [
        {
          "output_type": "stream",
          "name": "stdout",
          "text": [
            "[0.71428571 0.9047619  0.76190476 0.83333333 0.88095238 0.76190476\n",
            " 0.83333333 0.80952381 0.75609756 0.80487805]\n"
          ]
        }
      ]
    },
    {
      "cell_type": "code",
      "source": [
        "print(f'Mean K-Fold:{np.mean(cross_val)}')"
      ],
      "metadata": {
        "colab": {
          "base_uri": "https://localhost:8080/"
        },
        "id": "qnSbNZFsSvNM",
        "outputId": "dc86a33a-f3a2-4126-a523-e59c860e91ae"
      },
      "execution_count": 125,
      "outputs": [
        {
          "output_type": "stream",
          "name": "stdout",
          "text": [
            "Mean K-Fold:0.8060975609756097\n"
          ]
        }
      ]
    },
    {
      "cell_type": "markdown",
      "source": [
        "## **Important Feature Based**"
      ],
      "metadata": {
        "id": "jxYV9Irx95fD"
      }
    },
    {
      "cell_type": "code",
      "source": [
        "classifier = DecisionTreeClassifier()\n",
        "classifier.fit(X_train_imp, y_train_imp)\n",
        "\n",
        "dhat = classifier.predict(X_test_imp)\n",
        "\n",
        "#Evaluating the Algorithm\n",
        "print(classification_report(y_test_imp, dhat))\n",
        "print(\"Test set Accuracy: \", accuracy_score(y_test_imp, dhat))\n",
        "\n",
        "plot_confusion_matrix(classifier, X_test_imp, y_test_imp, values_format = '')  \n",
        "plt.xticks(range(2), target_columns, ha='right', rotation=31)\n",
        "plt.yticks(range(2), target_columns)\n",
        "plt.show()"
      ],
      "metadata": {
        "colab": {
          "base_uri": "https://localhost:8080/",
          "height": 470
        },
        "id": "nJhpdKDG96K6",
        "outputId": "e1005bbd-37be-4797-8e6f-1e5745c0a8cd"
      },
      "execution_count": 126,
      "outputs": [
        {
          "output_type": "stream",
          "name": "stdout",
          "text": [
            "              precision    recall  f1-score   support\n",
            "\n",
            "         0.0       0.90      0.82      0.86        11\n",
            "         1.0       0.94      0.97      0.95        31\n",
            "\n",
            "    accuracy                           0.93        42\n",
            "   macro avg       0.92      0.89      0.90        42\n",
            "weighted avg       0.93      0.93      0.93        42\n",
            "\n",
            "Test set Accuracy:  0.9285714285714286\n"
          ]
        },
        {
          "output_type": "display_data",
          "data": {
            "text/plain": [
              "<Figure size 432x288 with 2 Axes>"
            ],
            "image/png": "[encoded data removed]"
          },
          "metadata": {
            "needs_background": "light"
          }
        }
      ]
    },
    {
      "cell_type": "markdown",
      "source": [
        "## **Principle Component Analysis**"
      ],
      "metadata": {
        "id": "6GQgMxDjJ-h1"
      }
    },
    {
      "cell_type": "code",
      "source": [
        "classifier = DecisionTreeClassifier()\n",
        "classifier.fit(X_train_pca, y_train_pca)\n",
        "\n",
        "dhat = classifier.predict(X_test_pca)\n",
        "\n",
        "#Evaluating the Algorithm\n",
        "print(classification_report(y_test_pca, dhat))\n",
        "print(\"Test set Accuracy: \", accuracy_score(y_test_pca, dhat))\n",
        "\n",
        "plot_confusion_matrix(classifier, X_test_pca, y_test_pca, values_format = '')  \n",
        "plt.xticks(range(2), target_columns, ha='right', rotation=31)\n",
        "plt.yticks(range(2), target_columns)\n",
        "plt.show()"
      ],
      "metadata": {
        "colab": {
          "base_uri": "https://localhost:8080/",
          "height": 466
        },
        "id": "ExG7MqbkJ_Db",
        "outputId": "b641e3e4-c8da-4c12-fe31-6440d16b73f7"
      },
      "execution_count": 127,
      "outputs": [
        {
          "output_type": "stream",
          "name": "stdout",
          "text": [
            "              precision    recall  f1-score   support\n",
            "\n",
            "         0.0       0.36      0.36      0.36        11\n",
            "         1.0       0.77      0.77      0.77        31\n",
            "\n",
            "    accuracy                           0.67        42\n",
            "   macro avg       0.57      0.57      0.57        42\n",
            "weighted avg       0.67      0.67      0.67        42\n",
            "\n",
            "Test set Accuracy:  0.6666666666666666\n"
          ]
        },
        {
          "output_type": "display_data",
          "data": {
            "text/plain": [
              "<Figure size 432x288 with 2 Axes>"
            ],
            "image/png": "[encoded data removed]"
          },
          "metadata": {
            "needs_background": "light"
          }
        }
      ]
    },
    {
      "cell_type": "markdown",
      "source": [
        "# **K - Means Clustering**"
      ],
      "metadata": {
        "id": "27A-kgtBDdts"
      }
    },
    {
      "cell_type": "code",
      "source": [
        "from sklearn.cluster import KMeans\n",
        "from sklearn import metrics\n",
        "\n",
        "X = df[['Weight', 'Age']]\n",
        "\n",
        "kmeans = KMeans(n_clusters=2)\n",
        "y_kmeans = kmeans.fit_predict(X)\n",
        "\n",
        "metrics.rand_score(df_target, y_kmeans)"
      ],
      "metadata": {
        "colab": {
          "base_uri": "https://localhost:8080/"
        },
        "id": "nGUbL_7dDeSr",
        "outputId": "abd4b214-a7d7-417d-9e1a-2514989c9aaf"
      },
      "execution_count": 128,
      "outputs": [
        {
          "output_type": "execute_result",
          "data": {
            "text/plain": [
              "0.5190412263490642"
            ]
          },
          "metadata": {},
          "execution_count": 128
        }
      ]
    },
    {
      "cell_type": "code",
      "source": [
        "plt.scatter(df_backup['Weight'].values, df_backup['Age'].values, c=y_kmeans)\n",
        "plt.show()"
      ],
      "metadata": {
        "colab": {
          "base_uri": "https://localhost:8080/",
          "height": 265
        },
        "id": "c1AViVpzIAbE",
        "outputId": "15955bbc-8596-4f12-e0f1-b06e4274cb5d"
      },
      "execution_count": 129,
      "outputs": [
        {
          "output_type": "display_data",
          "data": {
            "text/plain": [
              "<Figure size 432x288 with 1 Axes>"
            ],
            "image/png": "[encoded data removed]"
          },
          "metadata": {
            "needs_background": "light"
          }
        }
      ]
    },
    {
      "cell_type": "markdown",
      "source": [
        "# **Hierarchical Clustering**"
      ],
      "metadata": {
        "id": "dR8Hpe7jNeSq"
      }
    },
    {
      "cell_type": "code",
      "source": [
        "import scipy.cluster.hierarchy as sch\n",
        "from sklearn.cluster import AgglomerativeClustering\n",
        "\n",
        "hc = AgglomerativeClustering(n_clusters = 2, affinity = 'euclidean', linkage ='complete')\n",
        "y_hc=hc.fit_predict(X)\n",
        "\n",
        "metrics.rand_score(df_target, y_hc)"
      ],
      "metadata": {
        "colab": {
          "base_uri": "https://localhost:8080/"
        },
        "id": "2aJjbwTINe2n",
        "outputId": "1705dbe2-0ac8-455a-e6d7-078a9f149cac"
      },
      "execution_count": 130,
      "outputs": [
        {
          "output_type": "execute_result",
          "data": {
            "text/plain": [
              "0.5263502116966714"
            ]
          },
          "metadata": {},
          "execution_count": 130
        }
      ]
    },
    {
      "cell_type": "code",
      "source": [
        "plt.scatter(df_backup['Weight'].values, df_backup['Age'].values, c=y_hc, cmap='rainbow')\n",
        "plt.show()"
      ],
      "metadata": {
        "colab": {
          "base_uri": "https://localhost:8080/",
          "height": 265
        },
        "id": "eJY17IL7PM1G",
        "outputId": "50b121ee-32f5-4e56-8f4e-485627b9aaa2"
      },
      "execution_count": 131,
      "outputs": [
        {
          "output_type": "display_data",
          "data": {
            "text/plain": [
              "<Figure size 432x288 with 1 Axes>"
            ],
            "image/png": "[encoded data removed]"
          },
          "metadata": {
            "needs_background": "light"
          }
        }
      ]
    },
    {
      "cell_type": "markdown",
      "source": [
        "# **Agglomerative Clustering**"
      ],
      "metadata": {
        "id": "0caZeSOnPX59"
      }
    },
    {
      "cell_type": "code",
      "source": [
        "from sklearn.cluster import AgglomerativeClustering\n",
        "\n",
        "agg = AgglomerativeClustering(n_clusters = 2)\n",
        "clusters = agg.fit_predict(X)\n",
        "\n",
        "metrics.rand_score(df_target, clusters)"
      ],
      "metadata": {
        "colab": {
          "base_uri": "https://localhost:8080/"
        },
        "id": "gAbvR0OVPYjG",
        "outputId": "6f8ca136-d291-43bc-a84a-16d38f1ffbc7"
      },
      "execution_count": 132,
      "outputs": [
        {
          "output_type": "execute_result",
          "data": {
            "text/plain": [
              "0.5128567002857044"
            ]
          },
          "metadata": {},
          "execution_count": 132
        }
      ]
    },
    {
      "cell_type": "code",
      "source": [
        "plt.scatter(df_backup['Weight'].values, df_backup['Age'].values, c=clusters)\n",
        "plt.show()"
      ],
      "metadata": {
        "colab": {
          "base_uri": "https://localhost:8080/",
          "height": 265
        },
        "id": "U5dTOItqPenI",
        "outputId": "4b960661-b547-4dcf-8791-e9fd59bd7141"
      },
      "execution_count": 133,
      "outputs": [
        {
          "output_type": "display_data",
          "data": {
            "text/plain": [
              "<Figure size 432x288 with 1 Axes>"
            ],
            "image/png": "[encoded data removed]"
          },
          "metadata": {
            "needs_background": "light"
          }
        }
      ]
    },
    {
      "cell_type": "markdown",
      "source": [
        "# **Result Tabel For Classification Accuracy**\n",
        "\n",
        "| Method | Normal Acc | Important Feature Acc | PCA | K-Fold\n",
        "| --- | --- | --- | --- | --- |\n",
        "| Naive Bayes | 0.88 | 0.90 | 0.69 | 0.84\n",
        "| K Nearest Neighbour | 0.83 | 0.88 | 0.64 | 0.80\n",
        "| Random Forest | 0.86 | 0.93 | 0.71 | 0.87\n",
        "| Support Vector Machine | 0.83 | 0.93 | 0.71 | 0.84\n",
        "| Decision Tree | 0.79 | 0.93 | 0.69 | 0.81"
      ],
      "metadata": {
        "id": "R_Hlh27APlGx"
      }
    },
    {
      "cell_type": "markdown",
      "source": [
        "# **Result Tabel For Clustering Accuracy**\n",
        "\n",
        "| Method | Accuracy |\n",
        "| --- | --- |\n",
        "| K - Means | 0.519 |\n",
        "| Hierarchical | 0.526 |\n",
        "| Agglomerative | 0.513 |"
      ],
      "metadata": {
        "id": "8pERrFv6RFng"
      }
    }
  ]
}